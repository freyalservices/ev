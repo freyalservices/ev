{
 "cells": [
  {
   "cell_type": "code",
   "execution_count": 1,
   "metadata": {},
   "outputs": [
    {
     "data": {
      "text/html": [
       "<div>\n",
       "<style scoped>\n",
       "    .dataframe tbody tr th:only-of-type {\n",
       "        vertical-align: middle;\n",
       "    }\n",
       "\n",
       "    .dataframe tbody tr th {\n",
       "        vertical-align: top;\n",
       "    }\n",
       "\n",
       "    .dataframe thead th {\n",
       "        text-align: right;\n",
       "    }\n",
       "</style>\n",
       "<table border=\"1\" class=\"dataframe\">\n",
       "  <thead>\n",
       "    <tr style=\"text-align: right;\">\n",
       "      <th></th>\n",
       "      <th>Entry</th>\n",
       "      <th>Battery_Voltage_(Lead-acid)_(V)</th>\n",
       "      <th>Motor_Temperature</th>\n",
       "      <th>Motor_RPM</th>\n",
       "      <th>Range_(km)</th>\n",
       "      <th>Tyre_Pressure_(psi)</th>\n",
       "      <th>Brake_Fluid_(%)</th>\n",
       "      <th>Coolant_Level_(%)</th>\n",
       "      <th>Lubricant_Level_(%)</th>\n",
       "      <th>Maintenance_Needed_(Area)</th>\n",
       "    </tr>\n",
       "  </thead>\n",
       "  <tbody>\n",
       "    <tr>\n",
       "      <th>0</th>\n",
       "      <td>1</td>\n",
       "      <td>12.4</td>\n",
       "      <td>78</td>\n",
       "      <td>3200</td>\n",
       "      <td>280</td>\n",
       "      <td>33</td>\n",
       "      <td>75</td>\n",
       "      <td>65</td>\n",
       "      <td>85</td>\n",
       "      <td>No Maintenance Required</td>\n",
       "    </tr>\n",
       "    <tr>\n",
       "      <th>1</th>\n",
       "      <td>2</td>\n",
       "      <td>12.2</td>\n",
       "      <td>82</td>\n",
       "      <td>3000</td>\n",
       "      <td>250</td>\n",
       "      <td>31</td>\n",
       "      <td>70</td>\n",
       "      <td>70</td>\n",
       "      <td>80</td>\n",
       "      <td>Tyres</td>\n",
       "    </tr>\n",
       "    <tr>\n",
       "      <th>2</th>\n",
       "      <td>3</td>\n",
       "      <td>12.8</td>\n",
       "      <td>75</td>\n",
       "      <td>2800</td>\n",
       "      <td>300</td>\n",
       "      <td>35</td>\n",
       "      <td>80</td>\n",
       "      <td>60</td>\n",
       "      <td>90</td>\n",
       "      <td>No Maintenance Required</td>\n",
       "    </tr>\n",
       "    <tr>\n",
       "      <th>3</th>\n",
       "      <td>4</td>\n",
       "      <td>12.5</td>\n",
       "      <td>80</td>\n",
       "      <td>3100</td>\n",
       "      <td>270</td>\n",
       "      <td>34</td>\n",
       "      <td>72</td>\n",
       "      <td>68</td>\n",
       "      <td>78</td>\n",
       "      <td>No Maintenance Required</td>\n",
       "    </tr>\n",
       "    <tr>\n",
       "      <th>4</th>\n",
       "      <td>5</td>\n",
       "      <td>12.3</td>\n",
       "      <td>85</td>\n",
       "      <td>3300</td>\n",
       "      <td>260</td>\n",
       "      <td>32</td>\n",
       "      <td>78</td>\n",
       "      <td>72</td>\n",
       "      <td>82</td>\n",
       "      <td>Motor and Lubrication</td>\n",
       "    </tr>\n",
       "  </tbody>\n",
       "</table>\n",
       "</div>"
      ],
      "text/plain": [
       "   Entry  Battery_Voltage_(Lead-acid)_(V)  Motor_Temperature  Motor_RPM  \\\n",
       "0      1                             12.4                 78       3200   \n",
       "1      2                             12.2                 82       3000   \n",
       "2      3                             12.8                 75       2800   \n",
       "3      4                             12.5                 80       3100   \n",
       "4      5                             12.3                 85       3300   \n",
       "\n",
       "   Range_(km)  Tyre_Pressure_(psi)  Brake_Fluid_(%)  Coolant_Level_(%)  \\\n",
       "0         280                   33               75                 65   \n",
       "1         250                   31               70                 70   \n",
       "2         300                   35               80                 60   \n",
       "3         270                   34               72                 68   \n",
       "4         260                   32               78                 72   \n",
       "\n",
       "   Lubricant_Level_(%) Maintenance_Needed_(Area)  \n",
       "0                   85   No Maintenance Required  \n",
       "1                   80                     Tyres  \n",
       "2                   90   No Maintenance Required  \n",
       "3                   78   No Maintenance Required  \n",
       "4                   82     Motor and Lubrication  "
      ]
     },
     "execution_count": 1,
     "metadata": {},
     "output_type": "execute_result"
    }
   ],
   "source": [
    "import pandas as pd\n",
    "\n",
    "df = pd.read_csv('sample.csv')\n",
    "df.head()"
   ]
  },
  {
   "cell_type": "code",
   "execution_count": 2,
   "metadata": {},
   "outputs": [
    {
     "data": {
      "text/plain": [
       "Index(['Entry', 'Battery_Voltage_(Lead-acid)_(V)', 'Motor_Temperature',\n",
       "       'Motor_RPM', 'Range_(km)', 'Tyre_Pressure_(psi)', 'Brake_Fluid_(%)',\n",
       "       'Coolant_Level_(%)', 'Lubricant_Level_(%)',\n",
       "       'Maintenance_Needed_(Area)'],\n",
       "      dtype='object')"
      ]
     },
     "execution_count": 2,
     "metadata": {},
     "output_type": "execute_result"
    }
   ],
   "source": [
    "df.columns"
   ]
  },
  {
   "cell_type": "code",
   "execution_count": 3,
   "metadata": {},
   "outputs": [],
   "source": [
    "df = df[['Battery_Voltage_(Lead-acid)_(V)','Motor_Temperature','Motor_RPM','Range_(km)','Tyre_Pressure_(psi)','Brake_Fluid_(%)','Coolant_Level_(%)',\n",
    "         'Lubricant_Level_(%)','Maintenance_Needed_(Area)']]"
   ]
  },
  {
   "cell_type": "code",
   "execution_count": 4,
   "metadata": {},
   "outputs": [
    {
     "data": {
      "text/html": [
       "<div>\n",
       "<style scoped>\n",
       "    .dataframe tbody tr th:only-of-type {\n",
       "        vertical-align: middle;\n",
       "    }\n",
       "\n",
       "    .dataframe tbody tr th {\n",
       "        vertical-align: top;\n",
       "    }\n",
       "\n",
       "    .dataframe thead th {\n",
       "        text-align: right;\n",
       "    }\n",
       "</style>\n",
       "<table border=\"1\" class=\"dataframe\">\n",
       "  <thead>\n",
       "    <tr style=\"text-align: right;\">\n",
       "      <th></th>\n",
       "      <th>Battery_Voltage_(Lead-acid)_(V)</th>\n",
       "      <th>Motor_Temperature</th>\n",
       "      <th>Motor_RPM</th>\n",
       "      <th>Range_(km)</th>\n",
       "      <th>Tyre_Pressure_(psi)</th>\n",
       "      <th>Brake_Fluid_(%)</th>\n",
       "      <th>Coolant_Level_(%)</th>\n",
       "      <th>Lubricant_Level_(%)</th>\n",
       "      <th>Maintenance_Needed_(Area)</th>\n",
       "    </tr>\n",
       "  </thead>\n",
       "  <tbody>\n",
       "    <tr>\n",
       "      <th>0</th>\n",
       "      <td>12.4</td>\n",
       "      <td>78</td>\n",
       "      <td>3200</td>\n",
       "      <td>280</td>\n",
       "      <td>33</td>\n",
       "      <td>75</td>\n",
       "      <td>65</td>\n",
       "      <td>85</td>\n",
       "      <td>No Maintenance Required</td>\n",
       "    </tr>\n",
       "    <tr>\n",
       "      <th>1</th>\n",
       "      <td>12.2</td>\n",
       "      <td>82</td>\n",
       "      <td>3000</td>\n",
       "      <td>250</td>\n",
       "      <td>31</td>\n",
       "      <td>70</td>\n",
       "      <td>70</td>\n",
       "      <td>80</td>\n",
       "      <td>Tyres</td>\n",
       "    </tr>\n",
       "    <tr>\n",
       "      <th>2</th>\n",
       "      <td>12.8</td>\n",
       "      <td>75</td>\n",
       "      <td>2800</td>\n",
       "      <td>300</td>\n",
       "      <td>35</td>\n",
       "      <td>80</td>\n",
       "      <td>60</td>\n",
       "      <td>90</td>\n",
       "      <td>No Maintenance Required</td>\n",
       "    </tr>\n",
       "    <tr>\n",
       "      <th>3</th>\n",
       "      <td>12.5</td>\n",
       "      <td>80</td>\n",
       "      <td>3100</td>\n",
       "      <td>270</td>\n",
       "      <td>34</td>\n",
       "      <td>72</td>\n",
       "      <td>68</td>\n",
       "      <td>78</td>\n",
       "      <td>No Maintenance Required</td>\n",
       "    </tr>\n",
       "    <tr>\n",
       "      <th>4</th>\n",
       "      <td>12.3</td>\n",
       "      <td>85</td>\n",
       "      <td>3300</td>\n",
       "      <td>260</td>\n",
       "      <td>32</td>\n",
       "      <td>78</td>\n",
       "      <td>72</td>\n",
       "      <td>82</td>\n",
       "      <td>Motor and Lubrication</td>\n",
       "    </tr>\n",
       "  </tbody>\n",
       "</table>\n",
       "</div>"
      ],
      "text/plain": [
       "   Battery_Voltage_(Lead-acid)_(V)  Motor_Temperature  Motor_RPM  Range_(km)  \\\n",
       "0                             12.4                 78       3200         280   \n",
       "1                             12.2                 82       3000         250   \n",
       "2                             12.8                 75       2800         300   \n",
       "3                             12.5                 80       3100         270   \n",
       "4                             12.3                 85       3300         260   \n",
       "\n",
       "   Tyre_Pressure_(psi)  Brake_Fluid_(%)  Coolant_Level_(%)  \\\n",
       "0                   33               75                 65   \n",
       "1                   31               70                 70   \n",
       "2                   35               80                 60   \n",
       "3                   34               72                 68   \n",
       "4                   32               78                 72   \n",
       "\n",
       "   Lubricant_Level_(%) Maintenance_Needed_(Area)  \n",
       "0                   85   No Maintenance Required  \n",
       "1                   80                     Tyres  \n",
       "2                   90   No Maintenance Required  \n",
       "3                   78   No Maintenance Required  \n",
       "4                   82     Motor and Lubrication  "
      ]
     },
     "execution_count": 4,
     "metadata": {},
     "output_type": "execute_result"
    }
   ],
   "source": [
    "df.head()"
   ]
  },
  {
   "cell_type": "code",
   "execution_count": 5,
   "metadata": {},
   "outputs": [],
   "source": [
    "df = df.dropna()"
   ]
  },
  {
   "cell_type": "code",
   "execution_count": 6,
   "metadata": {},
   "outputs": [
    {
     "data": {
      "text/plain": [
       "(65, 9)"
      ]
     },
     "execution_count": 6,
     "metadata": {},
     "output_type": "execute_result"
    }
   ],
   "source": [
    "df.shape"
   ]
  },
  {
   "cell_type": "code",
   "execution_count": 7,
   "metadata": {},
   "outputs": [],
   "source": [
    "df.to_csv('sample2.csv', index=False)"
   ]
  },
  {
   "cell_type": "markdown",
   "metadata": {},
   "source": [
    "Creating synthetic data"
   ]
  },
  {
   "cell_type": "code",
   "execution_count": 8,
   "metadata": {},
   "outputs": [
    {
     "name": "stdout",
     "output_type": "stream",
     "text": [
      "CSV file \"random_data.csv\" created successfully.\n"
     ]
    }
   ],
   "source": [
    "import csv\n",
    "import random\n",
    "\n",
    "# Function to generate random values for each column\n",
    "def generate_random_data():\n",
    "    return {\n",
    "        'Battery_Voltage_(Lead-acid)_(V)': round(random.uniform(12.1, 12.9), 2),\n",
    "        'Motor_Temperature': round(random.uniform(75, 85), 2),\n",
    "        'Motor_RPM': random.randint(2800, 3300),\n",
    "        'Range_(km)': random.randint(250, 300),\n",
    "        'Tyre_Pressure_(psi)': round(random.uniform(30, 37), 2),\n",
    "        'Brake_Fluid_(%)': random.randint(60, 80),\n",
    "        'Coolant_Level_(%)': random.randint(60, 75),\n",
    "        'Lubricant_Level_(%)': random.randint(78, 90),\n",
    "        'Maintenance_Needed_(Area)': random.choice([\n",
    "            'No Maintenance Required',\n",
    "            'Tyres',\n",
    "            'Battery',\n",
    "            'Tyres and Lubrication',\n",
    "            'Motor and Lubrication',\n",
    "            'Tyres and Brake System',\n",
    "            'Motor and Tyres',\n",
    "            'Brake System and Lubrication'\n",
    "        ])\n",
    "    }\n",
    "\n",
    "# Generate 10,000 rows of random data\n",
    "data = [generate_random_data() for _ in range(10000)]\n",
    "\n",
    "# Define CSV file header\n",
    "header = data[0].keys()\n",
    "\n",
    "# Specify the filename\n",
    "filename = 'random_data.csv'\n",
    "\n",
    "# Write data to CSV file\n",
    "with open(filename, 'w', newline='') as csvfile:\n",
    "    csv_writer = csv.DictWriter(csvfile, fieldnames=header)\n",
    "    \n",
    "    # Write the header\n",
    "    csv_writer.writeheader()\n",
    "    \n",
    "    # Write the data\n",
    "    csv_writer.writerows(data)\n",
    "\n",
    "print(f'CSV file \"{filename}\" created successfully.')\n"
   ]
  }
 ],
 "metadata": {
  "kernelspec": {
   "display_name": "venv",
   "language": "python",
   "name": "python3"
  },
  "language_info": {
   "codemirror_mode": {
    "name": "ipython",
    "version": 3
   },
   "file_extension": ".py",
   "mimetype": "text/x-python",
   "name": "python",
   "nbconvert_exporter": "python",
   "pygments_lexer": "ipython3",
   "version": "3.11.5"
  }
 },
 "nbformat": 4,
 "nbformat_minor": 2
}
